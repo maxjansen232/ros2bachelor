{
 "cells": [
  {
   "cell_type": "markdown",
   "metadata": {},
   "source": [
    "CREATE CSV FILES FROM THE MAGNETIC DATA SET SHEET"
   ]
  },
  {
   "cell_type": "code",
   "execution_count": null,
   "metadata": {},
   "outputs": [
    {
     "name": "stdout",
     "output_type": "stream",
     "text": [
      "Index(['posx', 'posy', 'posz', 'a', 'b', 'c', 'z'], dtype='object')\n"
     ]
    }
   ],
   "source": [
    "import pandas as pd\n",
    "df_ = pd.read_csv('csvfiler/60x60x23.csv')\n",
    "\n",
    "df_.columns = [\"posx\", \"posy\", \"posz\", \"a\", \"b\", \"c\", \"z\"]\n",
    "\n",
    "print(df_.columns)\n",
    "data= df_.copy(deep=True)\n",
    "data = data[data['posx'] <  .5]\n",
    "data = data[data['posx'] > -.5]\n",
    "# data = data[data['posz'] > ]\n",
    "data['posy'] = data['posy'] -10\n",
    "data = data[data['posz'] == 70]\n",
    "\n",
    "\n",
    "a = data['a']\n",
    "b = data['b']\n",
    "aw = 1\n",
    "bw = 1\n",
    "# data['y_error'] = (data['a']-data['b'])/(data['a']+data['b'])\n",
    "data['y_error'] = (a*aw-b*bw)/(aw*a+b*bw)\n",
    "\n",
    "\n",
    "# data = data[data['posx'] <  .5]\n",
    "# data = data[data['posx'] > -.5]\n",
    "data['y_error'].to_csv(\"csvfiler/yerror.csv\", index_label=True)"
   ]
  }
 ],
 "metadata": {
  "kernelspec": {
   "display_name": "Python 3",
   "language": "python",
   "name": "python3"
  },
  "language_info": {
   "codemirror_mode": {
    "name": "ipython",
    "version": 3
   },
   "file_extension": ".py",
   "mimetype": "text/x-python",
   "name": "python",
   "nbconvert_exporter": "python",
   "pygments_lexer": "ipython3",
   "version": "3.10.11"
  }
 },
 "nbformat": 4,
 "nbformat_minor": 2
}
